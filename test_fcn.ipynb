{
 "cells": [
  {
   "cell_type": "code",
   "execution_count": 13,
   "metadata": {},
   "outputs": [
    {
     "name": "stderr",
     "output_type": "stream",
     "text": [
      "c:\\Users\\arsla\\.conda\\envs\\azure\\lib\\site-packages\\shapely\\geometry\\linestring.py:64: FutureWarning: Calling float on a single element Series is deprecated and will raise a TypeError in the future. Use float(ser.iloc[0]) instead\n",
      "  return [float(c) for c in o]\n"
     ]
    },
    {
     "name": "stdout",
     "output_type": "stream",
     "text": [
      "\n"
     ]
    }
   ],
   "source": [
    "import pandas as pd\n",
    "from geopy.distance import great_circle\n",
    "from shapely.geometry import Point, LineString\n",
    "from shapely.ops import transform\n",
    "import geopandas as gpd\n",
    "import pandas as pd\n",
    "import pyproj\n",
    "\n",
    "TARGET_DISTANCE = 50 # In nautical miles\n",
    "input_list = \"YSSY YBBN\" # ICAO codes of the start and end airports\n",
    "\n",
    "# Read the CSV file into a DataFrame\n",
    "df = pd.read_csv(r\"C:\\Users\\arsla\\Desktop\\MY LIFE\\pf-notams\\raw\\airport_locations.csv\")\n",
    "\n",
    "# Split the input list into individual airport codes\n",
    "airport_codes = input_list.split()\n",
    "\n",
    "# Get the coordinates of the start and end airports\n",
    "start_airport = df[df['ICAO'] == airport_codes[0]]\n",
    "end_airport = df[df['ICAO'] == airport_codes[1]]\n",
    "\n",
    "# Create a LineString representing the great circle path between the two airports\n",
    "line = LineString([(start_airport['Longitude'], start_airport['Latitude']), \n",
    "                    (end_airport['Longitude'], end_airport['Latitude'])])\n",
    "\n",
    "# Create a buffer around the line\n",
    "wgs84 = pyproj.CRS('EPSG:4326')\n",
    "aeqd = pyproj.CRS(f\"+proj=aeqd +lat_0={line.centroid.y} +lon_0={line.centroid.x}\")\n",
    "project = pyproj.Transformer.from_crs(wgs84, aeqd, always_xy=True).transform\n",
    "buffer = transform(project, line).buffer(TARGET_DISTANCE / 60)  # Convert nautical miles to degrees\n",
    "\n",
    "# Create a GeoDataFrame from the DataFrame\n",
    "gdf = gpd.GeoDataFrame(df, geometry=gpd.points_from_xy(df['Longitude'], df['Latitude']))\n",
    "\n",
    "# Find the airports that fall within the buffer\n",
    "airports_in_buffer = gdf[gdf.within(buffer)]\n",
    "\n",
    "# Return the ICAO codes of the airports in the buffer as a string\n",
    "print(' '.join(airports_in_buffer['ICAO']))\n",
    "\n"
   ]
  },
  {
   "cell_type": "code",
   "execution_count": 38,
   "metadata": {},
   "outputs": [],
   "source": [
    "import pandas as pd\n",
    "from geopy.distance import geodesic\n",
    "\n",
    "TARGET_DISTANCE = 300000 # In nautical miles\n",
    "\n",
    "# Load airports data from CSV file\n",
    "df = pd.read_csv(r\"C:\\Users\\arsla\\Desktop\\MY LIFE\\pf-notams\\raw\\airport_locations.csv\")\n",
    "\n",
    "# Function to calculate distance between two coordinates\n",
    "def calculate_distance(coord1, coord2):\n",
    "    return geodesic(coord1, coord2).nautical\n",
    "\n",
    "# Function to find the nearest airport given a set of coordinates\n",
    "def find_nearest_airport(coord):\n",
    "    distances = df[['Latitude', 'Longitude']].apply(lambda x: calculate_distance(coord, (x['Latitude'], x['Longitude'])), axis=1)\n",
    "    return df.loc[distances.idxmin()]['ICAO']\n",
    "\n",
    "def generate_extended_route(route):\n",
    "    extended_route = []\n",
    "    for i in range(len(route)-1):\n",
    "        start_airport = route[i]\n",
    "        end_airport = route[i+1]\n",
    "        \n",
    "        # Check if the airports are in the DataFrame\n",
    "        if start_airport not in df['ICAO'].values or end_airport not in df['ICAO'].values:\n",
    "            raise ValueError(f\"Airport {start_airport} or {end_airport} not found in the CSV file.\")\n",
    "        \n",
    "        start_coord = (df.loc[df['ICAO'] == start_airport]['Latitude'].values[0], df.loc[df['ICAO'] == start_airport]['Longitude'].values[0])\n",
    "        end_coord = (df.loc[df['ICAO'] == end_airport]['Latitude'].values[0], df.loc[df['ICAO'] == end_airport]['Longitude'].values[0])\n",
    "        \n",
    "        extended_route.append(start_airport)\n",
    "        \n",
    "        # Calculate midpoint between the start and end airports\n",
    "        midpoint = ((start_coord[0] + end_coord[0]) / 2, (start_coord[1] + end_coord[1]) / 2)\n",
    "        \n",
    "        # Find the nearest airport to the midpoint\n",
    "        nearest_airport = find_nearest_airport(midpoint)\n",
    "        \n",
    "        # Add the nearest airport to the extended route\n",
    "        extended_route.append(nearest_airport)\n",
    "        \n",
    "        # Calculate the buffer around the flight path\n",
    "        line = LineString([start_coord, end_coord])\n",
    "        buffer = line.parallel_offset(TARGET_DISTANCE / 60, 'left').union(line.parallel_offset(TARGET_DISTANCE / 60, 'right'))\n",
    "        \n",
    "        # Find the airports that fall within the buffer\n",
    "        airports_in_buffer = gdf[gdf.within(buffer)]\n",
    "        \n",
    "        # Add the ICAO codes of the airports in the buffer to the extended route\n",
    "        extended_route.extend(airports_in_buffer['ICAO'].tolist())\n",
    "    \n",
    "    extended_route.append(end_airport)\n",
    "    return extended_route\n"
   ]
  },
  {
   "cell_type": "code",
   "execution_count": 39,
   "metadata": {},
   "outputs": [
    {
     "name": "stdout",
     "output_type": "stream",
     "text": [
      "Extended Route: YBBN YSCH YSSY\n"
     ]
    }
   ],
   "source": [
    "# Example usage\n",
    "input_route = \"YBBN YSSY\"\n",
    "airports_route = input_route.split()\n",
    "\n",
    "try:\n",
    "    extended_route = generate_extended_route(airports_route)\n",
    "    print(\"Extended Route:\", \" \".join(extended_route))\n",
    "except ValueError as e:\n",
    "    print(e)"
   ]
  },
  {
   "cell_type": "code",
   "execution_count": 33,
   "metadata": {},
   "outputs": [
    {
     "name": "stdout",
     "output_type": "stream",
     "text": [
      "Extended Route: YBBN YSCH YSSY\n"
     ]
    }
   ],
   "source": [
    "import pandas as pd\n",
    "from geopy.distance import geodesic\n",
    "\n",
    "# Load airports data from CSV file\n",
    "df = pd.read_csv(r\"C:\\Users\\arsla\\Desktop\\MY LIFE\\pf-notams\\raw\\airport_locations.csv\")\n",
    "\n",
    "# Function to calculate distance between two coordinates\n",
    "def calculate_distance(coord1, coord2):\n",
    "    return geodesic(coord1, coord2).nautical\n",
    "\n",
    "# Function to find the nearest airport given a set of coordinates\n",
    "def find_nearest_airport(coord):\n",
    "    distances = df[['Latitude', 'Longitude']].apply(lambda x: calculate_distance(coord, (x['Latitude'], x['Longitude'])), axis=1)\n",
    "    return df.loc[distances.idxmin()]['ICAO']\n",
    "\n",
    "# Function to generate the extended route\n",
    "def generate_extended_route(route):\n",
    "    extended_route = []\n",
    "    for i in range(len(route)-1):\n",
    "        start_airport = route[i]\n",
    "        end_airport = route[i+1]\n",
    "        \n",
    "        # Check if the airports are in the DataFrame\n",
    "        if start_airport not in df['ICAO'].values or end_airport not in df['ICAO'].values:\n",
    "            raise ValueError(f\"Airport {start_airport} or {end_airport} not found in the CSV file.\")\n",
    "        \n",
    "        start_coord = (df.loc[df['ICAO'] == start_airport]['Latitude'].values[0], df.loc[df['ICAO'] == start_airport]['Longitude'].values[0])\n",
    "        end_coord = (df.loc[df['ICAO'] == end_airport]['Latitude'].values[0], df.loc[df['ICAO'] == end_airport]['Longitude'].values[0])\n",
    "        \n",
    "        extended_route.append(start_airport)\n",
    "        \n",
    "        # Calculate midpoint between the start and end airports\n",
    "        midpoint = ((start_coord[0] + end_coord[0]) / 2, (start_coord[1] + end_coord[1]) / 2)\n",
    "        \n",
    "        # Find the nearest airport to the midpoint\n",
    "        nearest_airport = find_nearest_airport(midpoint)\n",
    "        \n",
    "        # Add the nearest airport to the extended route\n",
    "        extended_route.append(nearest_airport)\n",
    "    \n",
    "    extended_route.append(end_airport)\n",
    "    return extended_route\n",
    "\n",
    "# Example usage\n",
    "input_route = \"YBBN YSSY\"\n",
    "airports_route = input_route.split()\n",
    "\n",
    "try:\n",
    "    extended_route = generate_extended_route(airports_route)\n",
    "    print(\"Extended Route:\", \" \".join(extended_route))\n",
    "except ValueError as e:\n",
    "    print(e)\n"
   ]
  },
  {
   "cell_type": "code",
   "execution_count": 52,
   "metadata": {},
   "outputs": [
    {
     "name": "stdout",
     "output_type": "stream",
     "text": [
      "YBBN YBAF YBBN YBOK YSCH YSSY YSSY\n"
     ]
    }
   ],
   "source": [
    "import pandas as pd\n",
    "from geopy.distance import great_circle\n",
    "\n",
    "def find_airports_between(input_airports, offset_distance, airports_df):\n",
    "    def calculate_distance(point1, point2):\n",
    "        return great_circle(point1, point2).nautical\n",
    "\n",
    "    def airports_in_zone(line_start, line_end, offset, airports):\n",
    "        line_distance = great_circle(line_start, line_end).nautical\n",
    "        line_direction = (line_end[0] - line_start[0], line_end[1] - line_start[1])\n",
    "        unit_vector = (line_direction[1], -line_direction[0])\n",
    "        unit_vector = (unit_vector[0] / line_distance, unit_vector[1] / line_distance)\n",
    "        offset_vector = (unit_vector[0] * offset, unit_vector[1] * offset)\n",
    "        min_lat = min(line_start[0], line_end[0]) + offset_vector[0]\n",
    "        max_lat = max(line_start[0], line_end[0]) + offset_vector[0]\n",
    "        min_lon = min(line_start[1], line_end[1]) + offset_vector[1]\n",
    "        max_lon = max(line_start[1], line_end[1]) + offset_vector[1]\n",
    "\n",
    "        filtered_airports = airports[\n",
    "            (airports['Latitude'] >= min_lat) & (airports['Latitude'] <= max_lat) &\n",
    "            (airports['Longitude'] >= min_lon) & (airports['Longitude'] <= max_lon)\n",
    "        ]\n",
    "\n",
    "        return filtered_airports\n",
    "\n",
    "    airports = input_airports.split()\n",
    "    departure_airport, arrival_airport = airports[0], airports[-1]\n",
    "\n",
    "    departure_data = airports_df[airports_df['ICAO'] == departure_airport][['Latitude', 'Longitude']]\n",
    "    arrival_data = airports_df[airports_df['ICAO'] == arrival_airport][['Latitude', 'Longitude']]\n",
    "\n",
    "    if departure_data.empty or arrival_data.empty:\n",
    "        return \"Error: One or more airports not found in the CSV file.\"\n",
    "\n",
    "    departure_coords = tuple(departure_data.values[0])\n",
    "    arrival_coords = tuple(arrival_data.values[0])\n",
    "\n",
    "    airports_in_zone_df = airports_in_zone(departure_coords, arrival_coords, offset_distance, airports_df)\n",
    "\n",
    "    airport_list = [departure_airport] + list(airports_in_zone_df['ICAO']) + [arrival_airport]\n",
    "\n",
    "    return \" \".join(airport_list)\n",
    "\n",
    "# Example usage\n",
    "input_airports = \"YBBN YSSY\"\n",
    "offset_distance = 0\n",
    "result = find_airports_between(input_airports, offset_distance, pd.read_csv(r\"C:\\Users\\arsla\\Desktop\\MY LIFE\\pf-notams\\raw\\airport_locations.csv\"))\n",
    "print(result)\n"
   ]
  },
  {
   "cell_type": "code",
   "execution_count": 67,
   "metadata": {},
   "outputs": [],
   "source": []
  },
  {
   "cell_type": "code",
   "execution_count": 69,
   "metadata": {},
   "outputs": [],
   "source": [
    "def my_python_tool(input_airports: str) -> str:\n",
    "    \"\"\"\n",
    "    Provided a string of airport codes as a list (eg. \"YBBN YSSY\"), return a list of airport codes that lie on the path between the two airports\n",
    "    according to the Greater Circle Distance formula. \n",
    "     - The list should include the start and end airports. \n",
    "     - The list should be in order of the path.\n",
    "    \"\"\"\n",
    "    offset_distance = 50  # nautical miles  \n",
    "    airports_df = pd.read_csv(r\"C:\\Users\\arsla\\Desktop\\MY LIFE\\pf-notams\\raw\\airport_locations.csv\")\n",
    "\n",
    "    def calculate_distance(point1, point2):\n",
    "        return great_circle(point1, point2).nautical\n",
    "\n",
    "    def airports_in_zone(line_start, line_end, offset, airports):\n",
    "        line_distance = great_circle(line_start, line_end).nautical\n",
    "        line_direction = (line_end[0] - line_start[0], line_end[1] - line_start[1])\n",
    "        unit_vector = (line_direction[1], -line_direction[0])\n",
    "        unit_vector = (unit_vector[0] / line_distance, unit_vector[1] / line_distance)\n",
    "        offset_vector = (unit_vector[0] * offset, unit_vector[1] * offset)\n",
    "        min_lat = min(line_start[0], line_end[0]) + offset_vector[0]\n",
    "        max_lat = max(line_start[0], line_end[0]) + offset_vector[0]\n",
    "        min_lon = min(line_start[1], line_end[1]) + offset_vector[1]\n",
    "        max_lon = max(line_start[1], line_end[1]) + offset_vector[1]\n",
    "\n",
    "        filtered_airports = airports[\n",
    "            (airports['Latitude'] >= min_lat) & (airports['Latitude'] <= max_lat) &\n",
    "            (airports['Longitude'] >= min_lon) & (airports['Longitude'] <= max_lon)\n",
    "        ]\n",
    "\n",
    "        return filtered_airports\n",
    "    airports_input = input_airports.replace('\\n', '').strip()\n",
    "    airports = input_airports.split()\n",
    "    departure_airport, arrival_airport = airports[0], airports[-1]\n",
    "\n",
    "    departure_data = airports_df[airports_df['ICAO'] == departure_airport][['Latitude', 'Longitude']]\n",
    "    arrival_data = airports_df[airports_df['ICAO'] == arrival_airport][['Latitude', 'Longitude']]\n",
    "\n",
    "    if departure_data.empty or arrival_data.empty:\n",
    "        return \"Error: One or more airports not found in the CSV file.\"\n",
    "\n",
    "    departure_coords = tuple(departure_data.values[0])\n",
    "    arrival_coords = tuple(arrival_data.values[0])\n",
    "\n",
    "    airports_in_zone_df = airports_in_zone(departure_coords, arrival_coords, offset_distance, airports_df)\n",
    "\n",
    "    airport_list = [departure_airport] + list(airports_in_zone_df['ICAO']) + [arrival_airport]\n",
    "\n",
    "    # Remove duplicates\n",
    "    unique_airports = []\n",
    "    for airport in airport_list:\n",
    "        if airport not in unique_airports:\n",
    "            unique_airports.append(airport)\n",
    "\n",
    "    return \" \".join(unique_airports)"
   ]
  },
  {
   "cell_type": "code",
   "execution_count": 71,
   "metadata": {},
   "outputs": [
    {
     "data": {
      "text/plain": [
       "'YBBN YBCG YSCH YSSY'"
      ]
     },
     "execution_count": 71,
     "metadata": {},
     "output_type": "execute_result"
    }
   ],
   "source": [
    "my_python_tool(\"\\n\\nYBBN YSSY\")"
   ]
  },
  {
   "cell_type": "code",
   "execution_count": null,
   "metadata": {},
   "outputs": [],
   "source": []
  }
 ],
 "metadata": {
  "kernelspec": {
   "display_name": "azure",
   "language": "python",
   "name": "python3"
  },
  "language_info": {
   "codemirror_mode": {
    "name": "ipython",
    "version": 3
   },
   "file_extension": ".py",
   "mimetype": "text/x-python",
   "name": "python",
   "nbconvert_exporter": "python",
   "pygments_lexer": "ipython3",
   "version": "3.10.13"
  }
 },
 "nbformat": 4,
 "nbformat_minor": 2
}
